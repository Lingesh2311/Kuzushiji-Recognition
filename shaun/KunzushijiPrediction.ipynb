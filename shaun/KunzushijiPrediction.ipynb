{
  "nbformat": 4,
  "nbformat_minor": 0,
  "metadata": {
    "colab": {
      "name": "KunzushijiPrediction.ipynb",
      "version": "0.3.2",
      "provenance": [],
      "collapsed_sections": [],
      "include_colab_link": true
    },
    "kernelspec": {
      "name": "python3",
      "display_name": "Python 3"
    }
  },
  "cells": [
    {
      "cell_type": "markdown",
      "metadata": {
        "id": "view-in-github",
        "colab_type": "text"
      },
      "source": [
        "<a href=\"https://colab.research.google.com/github/Lingesh2311/Kuzushiji-Recognition/blob/master/KunzushijiPrediction.ipynb\" target=\"_parent\"><img src=\"https://colab.research.google.com/assets/colab-badge.svg\" alt=\"Open In Colab\"/></a>"
      ]
    },
    {
      "cell_type": "code",
      "metadata": {
        "id": "-5cQcB4fojIT",
        "colab_type": "code",
        "colab": {}
      },
      "source": [
        "import os\n",
        "import zipfile"
      ],
      "execution_count": 0,
      "outputs": []
    },
    {
      "cell_type": "markdown",
      "metadata": {
        "id": "siWzDQik3jlV",
        "colab_type": "text"
      },
      "source": [
        "## Download files and create folder structure\n",
        "\n"
      ]
    },
    {
      "cell_type": "code",
      "metadata": {
        "id": "zY253siRokDd",
        "colab_type": "code",
        "outputId": "623c03ea-2af7-4e0a-fc6e-fac860cc7f7b",
        "colab": {
          "base_uri": "https://localhost:8080/",
          "height": 425
        }
      },
      "source": [
        "def setup():\n",
        "\n",
        "  train_path = './train'\n",
        "  test_path = './test'\n",
        "  shaun_path = './shaun'\n",
        "  ly_path = './ly'\n",
        "  welly_path = './welly'\n",
        "  andy_path = './andy'\n",
        "\n",
        "\n",
        "  if not (os.path.exists(train_path) and os.path.exists(test_path) and os.path.exists(shaun_path) and os.path.exists(welly_path) and os.path.exists(ly_path) and os.path.exists(andy_path)):\n",
        "    # the directory structure is not formed - run init script\n",
        "    !mkdir -p ~/.kaggle\n",
        "    !cp kaggle.json ~/.kaggle/\n",
        "    !kaggle competitions download -c kuzushiji-recognition\n",
        "    !mkdir andy ly welly shaun train test\n",
        "    os.rename(src='./train.csv.zip', dst='train/train.csv.zip')\n",
        "    os.rename(src='./train_images.zip', dst='train/train_images.zip')\n",
        "    os.rename(src='./test_images.zip', dst='test/test_images.zip')\n",
        "    \n",
        "    # unzip\n",
        "    with zipfile.ZipFile(file='./train/train_images.zip') as zip_ref:\n",
        "      print (\"Extracting /train/train_images.zip\")\n",
        "      zip_ref.extractall(path='./train')\n",
        "      print (\"Done Extracting /train/train_images.zip\")\n",
        "\n",
        "    with zipfile.ZipFile(file='./train/train.csv.zip') as zip_ref:\n",
        "      print (\"Extracting /train/train.csv.zip\")\n",
        "      zip_ref.extractall(path='./train')\n",
        "      print (\"Done Extracting /train/train.csv.zip\")\n",
        "\n",
        "    with zipfile.ZipFile(file='./test/test_images.zip') as zip_ref:\n",
        "      print (\"Extracting /test/test_images.zip\")\n",
        "      zip_ref.extractall(path='./test')\n",
        "      print (\"Done Extracting /test/test_images.zip\")\n",
        "\n",
        "    print ('Done!')\n",
        "  else:\n",
        "    print (\"Good to go :)\")\n",
        "\n",
        "setup()"
      ],
      "execution_count": 2,
      "outputs": [
        {
          "output_type": "stream",
          "text": [
            "Warning: Your Kaggle API key is readable by other users on this system! To fix this, you can run 'chmod 600 /root/.kaggle/kaggle.json'\n",
            "Downloading unicode_translation.csv to /content\n",
            "  0% 0.00/51.5k [00:00<?, ?B/s]\n",
            "100% 51.5k/51.5k [00:00<00:00, 20.2MB/s]\n",
            "Downloading sample_submission.csv to /content\n",
            "  0% 0.00/146k [00:00<?, ?B/s]\n",
            "100% 146k/146k [00:00<00:00, 44.2MB/s]\n",
            "Downloading train.csv.zip to /content\n",
            "  0% 0.00/5.67M [00:00<?, ?B/s]\n",
            "100% 5.67M/5.67M [00:00<00:00, 92.6MB/s]\n",
            "Downloading test_images.zip to /content\n",
            "100% 3.58G/3.58G [01:27<00:00, 29.0MB/s]\n",
            "100% 3.58G/3.58G [01:27<00:00, 44.0MB/s]\n",
            "Downloading train_images.zip to /content\n",
            "100% 3.03G/3.03G [01:48<00:00, 32.5MB/s]\n",
            "100% 3.03G/3.03G [01:48<00:00, 29.9MB/s]\n",
            "Extracting /train/train_images.zip\n",
            "Done Extracting /train/train_images.zip\n",
            "Extracting /train/train.csv.zip\n",
            "Done Extracting /train/train.csv.zip\n",
            "Extracting /test/test_images.zip\n",
            "Done Extracting /test/test_images.zip\n",
            "Done!\n"
          ],
          "name": "stdout"
        }
      ]
    }
  ]
}